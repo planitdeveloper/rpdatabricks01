{
 "cells": [
  {
   "cell_type": "markdown",
   "metadata": {
    "application/vnd.databricks.v1+cell": {
     "cellMetadata": {},
     "inputWidgets": {},
     "nuid": "09bb74de-a489-4991-b073-7e09c57b77d1",
     "showTitle": false,
     "tableResultSettingsMap": {},
     "title": ""
    }
   },
   "source": [
    "\n",
    "# Implement CDC In DLT Pipeline: Change Data Capture\n",
    "\n",
    "## Importance of Change Data Capture (CDC)\n",
    "\n",
    "Change Data Capture (CDC) is the process that captures the changes in records made to transactional Database (Mysql, Postgre) or Data Warehouse. CDC captures operations like data deletion, append and updating, typically as a stream to re-materialize the table in external systems.\n",
    "\n",
    "CDC enables incremental loading while eliminating the need for bulk load updating.\n",
    "\n",
    "By capturing CDC events, we can re-materialize the source table as Delta Table in our Lakehouse and start running Analysis on top of it (Data Science, BI), merging the data with external system.\n",
    "\n",
    "<!-- Collect usage data (view). Remove it to disable collection. View README for more details.  -->\n",
    "<img width=\"1px\" src=\"https://ppxrzfxige.execute-api.us-west-2.amazonaws.com/v1/analytics?category=data-engineering&org_id=2670967897137579&notebook=%2F01-Retail_DLT_CDC_SQL&demo_name=dlt-cdc&event=VIEW&path=%2F_dbdemos%2Fdata-engineering%2Fdlt-cdc%2F01-Retail_DLT_CDC_SQL&version=1\">"
   ]
  },
  {
   "cell_type": "markdown",
   "metadata": {
    "application/vnd.databricks.v1+cell": {
     "cellMetadata": {},
     "inputWidgets": {},
     "nuid": "640419f2-dbaa-4208-b854-191956d08a96",
     "showTitle": false,
     "tableResultSettingsMap": {},
     "title": ""
    }
   },
   "source": [
    "\n",
    "### Capturing CDC  \n",
    "\n",
    "A variety of **CDC tools** are available. One of the open source leader solution is Debezium, but other implementation exists simplifying the datasource, such as Fivetran, Qlik Replicate, Streamset, Talend, Oracle GoldenGate, AWS DMS.\n",
    "\n",
    "In this demo we are using CDC data coming from an external system like Debezium or DMS. \n",
    "\n",
    "Debezium takes care of capturing every changed row. It typically sends the history of data changes to Kafka logs or save them as file. To simplify the demo, we'll consider that our external CDC system is up and running and saving the CDC as JSON file in our blob storage (S3, ADLS, GCS). \n",
    "\n",
    "Our job is to CDC informations from the `customer` table (json format), making sure they're correct, and then materializing the customer table in our Lakehouse."
   ]
  },
  {
   "cell_type": "markdown",
   "metadata": {
    "application/vnd.databricks.v1+cell": {
     "cellMetadata": {},
     "inputWidgets": {},
     "nuid": "be1dfada-b6cc-42c7-ab51-c19ad40877d3",
     "showTitle": false,
     "tableResultSettingsMap": {},
     "title": ""
    }
   },
   "source": [
    "### Materializing table from CDC events with Delta Live Table\n",
    "\n",
    "In this example, we'll synchronize data from the Customers table in our MySQL database.\n",
    "\n",
    "- We extract the changes from our transactional database using Debezium or any other tool and save them in a cloud object storage (S3 folder, ADLS, GCS).\n",
    "- Using Autoloader we incrementally load the messages from cloud object storage, and stores the raw messages them in the `customers_cdc`. Autoloader will take care of infering the schema and handling schema evolution for us.\n",
    "- Then we'll add a view `customers_cdc_clean` to check the quality of our data, using expectation, and then build dashboards to track data quality. As example the ID should never be null as we'll use it to run our upsert operations.\n",
    "- Finally we perform the APPLY CHANGES INTO (doing the upserts) on the cleaned cdc data to apply the changes to the final `customers` table\n",
    "- Extra: we'll also see how DLT can simply create Slowly Changing Dimention of type 2 (SCD2) to keep track of all the changes \n",
    "\n",
    "Here is the flow we'll implement, consuming CDC data from an external database. Note that the incoming could be any format, including message queue such as Kafka.\n",
    "\n",
    "<img src=\"https://github.com/QuentinAmbard/databricks-demo/raw/main/product_demos/cdc_dlt/cdc_dlt_pipeline_0.png\" width=\"1100\"/>\n",
    "\n",
    "## Accessing the DLT pipeline\n",
    "\n",
    "Your pipeline has been created! You can directly access the <a dbdemos-pipeline-id=\"dlt-cdc\" href=\"/#joblist/pipelines/8aa6423f-07a9-4975-a3b5-3909d4d7fb38\">Delta Live Table Pipeline for CDC</a>."
   ]
  },
  {
   "cell_type": "markdown",
   "metadata": {
    "application/vnd.databricks.v1+cell": {
     "cellMetadata": {},
     "inputWidgets": {},
     "nuid": "74e80aeb-a16e-4a9c-92cb-804ce49abdcc",
     "showTitle": false,
     "tableResultSettingsMap": {},
     "title": ""
    }
   },
   "source": [
    "\n",
    "### CDC input from tools like Debezium\n",
    "\n",
    "For each change, we receive a JSON message containing all the fields of the row being updated (customer name, email, address...). In addition, we have extra metadata informations including:\n",
    "\n",
    "- operation: an operation code, typically (DELETE, APPEND, UPDATE)\n",
    "- operation_date: the date and timestamp for the record came for each operation action\n",
    "\n",
    "Tools like Debezium can produce more advanced output such as the row value before the change, but we'll exclude them for the clarity of the demo"
   ]
  },
  {
   "cell_type": "code",
   "execution_count": 0,
   "metadata": {
    "application/vnd.databricks.v1+cell": {
     "cellMetadata": {
      "byteLimit": 2048000,
      "rowLimit": 10000
     },
     "inputWidgets": {},
     "nuid": "58541170-2e00-4224-9dc9-fec8894de6f9",
     "showTitle": true,
     "tableResultSettingsMap": {},
     "title": "Input data from CDC"
    }
   },
   "outputs": [],
   "source": [
    "%python #Uncomment to explore the content \n",
    "display(spark.read.json(\"/Volumes/main/dbdemos_dlt_cdc/raw_data/customers\"))"
   ]
  },
  {
   "cell_type": "markdown",
   "metadata": {
    "application/vnd.databricks.v1+cell": {
     "cellMetadata": {},
     "inputWidgets": {},
     "isMarkdownSandbox": true,
     "nuid": "bcb65113-6abc-4912-9417-84c63ee0e175",
     "showTitle": false,
     "tableResultSettingsMap": {},
     "title": ""
    }
   },
   "source": [
    "### 1/ Ingesting data with Autoloader\n",
    "\n",
    "<img src=\"https://github.com/QuentinAmbard/databricks-demo/raw/main/product_demos/cdc_dlt/cdc_dlt_pipeline_1.png\" width=\"700\" style=\"float: right\" />\n",
    "\n",
    "Our first step is to ingest the data from the cloud storage. Again, this could be from any other source like (message queue etc).\n",
    "\n",
    "This can be challenging for multiple reason. We have to:\n",
    "\n",
    "- operate at scale, potentially ingesting millions of small files\n",
    "- infer schema and json type\n",
    "- handle bad record with incorrect json schema\n",
    "- take care of schema evolution (ex: new column in the customer table)\n",
    "\n",
    "Databricks Autoloader solves all these challenges out of the box."
   ]
  },
  {
   "cell_type": "code",
   "execution_count": 0,
   "metadata": {
    "application/vnd.databricks.v1+cell": {
     "cellMetadata": {
      "byteLimit": 2048000,
      "rowLimit": 10000
     },
     "inputWidgets": {},
     "nuid": "14a843c7-adc4-48bc-91b8-b34958ca11d4",
     "showTitle": true,
     "tableResultSettingsMap": {},
     "title": "Let's ingest our incoming data using Autoloader (cloudFiles)"
    }
   },
   "outputs": [],
   "source": [
    "CREATE STREAMING TABLE customers_cdc \n",
    "COMMENT \"New customer data incrementally ingested from cloud object storage landing zone\"\n",
    "AS SELECT * FROM cloud_files(\"/Volumes/main/dbdemos_dlt_cdc/raw_data/customers\", \"json\", map(\"cloudFiles.inferColumnTypes\", \"true\"));"
   ]
  },
  {
   "cell_type": "markdown",
   "metadata": {
    "application/vnd.databricks.v1+cell": {
     "cellMetadata": {},
     "inputWidgets": {},
     "isMarkdownSandbox": true,
     "nuid": "55d52690-d22b-4469-a0b0-f57f4dd7e381",
     "showTitle": false,
     "tableResultSettingsMap": {},
     "title": ""
    }
   },
   "source": [
    "### 2/ Cleanup & expectations to track data quality\n",
    "\n",
    "<img src=\"https://github.com/QuentinAmbard/databricks-demo/raw/main/product_demos/cdc_dlt/cdc_dlt_pipeline_2.png\" width=\"700\" style=\"float: right\" />\n",
    "\n",
    "Next, we'll add expectations to controle data quality. To do so, we'll create a view (we don't need to duplicate the data) and check the following conditions:\n",
    "\n",
    "- ID must never be null\n",
    "- the cdc operation type must be valid\n",
    "- the json must have been properly read by the autoloader\n",
    "\n",
    "If one of these conditions isn't respected, we'll drop the row.\n",
    "\n",
    "These expectations metrics are saved as technical tables and can then be re-used with Databricks SQL to track data quality over time."
   ]
  },
  {
   "cell_type": "code",
   "execution_count": 0,
   "metadata": {
    "application/vnd.databricks.v1+cell": {
     "cellMetadata": {},
     "inputWidgets": {},
     "nuid": "293af305-440f-4504-977f-55b8a45abb28",
     "showTitle": true,
     "tableResultSettingsMap": {},
     "title": "Silver Layer - Cleansed Table (Impose Constraints)"
    }
   },
   "outputs": [],
   "source": [
    "-- this could also be a VIEW\n",
    "CREATE STREAMING TABLE customers_cdc_clean(\n",
    "  CONSTRAINT valid_id EXPECT (id IS NOT NULL) ON VIOLATION DROP ROW,\n",
    "  CONSTRAINT valid_operation EXPECT (operation IN ('APPEND', 'DELETE', 'UPDATE')) ON VIOLATION DROP ROW,\n",
    "  CONSTRAINT valid_json_schema EXPECT (_rescued_data IS NULL) ON VIOLATION DROP ROW\n",
    ")\n",
    "COMMENT \"Cleansed cdc data, tracking data quality with a view. We ensude valid JSON, id and operation type\"\n",
    "AS SELECT * \n",
    "FROM STREAM(live.customers_cdc);"
   ]
  },
  {
   "cell_type": "markdown",
   "metadata": {
    "application/vnd.databricks.v1+cell": {
     "cellMetadata": {},
     "inputWidgets": {},
     "isMarkdownSandbox": true,
     "nuid": "4be8b1bf-90b9-46b9-97d4-a544b5105564",
     "showTitle": false,
     "tableResultSettingsMap": {},
     "title": ""
    }
   },
   "source": [
    "### 3/ Materializing the silver table with APPLY CHANGES\n",
    "\n",
    "<img src=\"https://github.com/QuentinAmbard/databricks-demo/raw/main/product_demos/cdc_dlt/cdc_dlt_pipeline_3.png\" width=\"700\" style=\"float: right\" />\n",
    "\n",
    "The silver `customer` table will contains the most up to date view. It'll be a replicate of the original table.\n",
    "\n",
    "This is non trivial to implement manually. You need to consider things like data deduplication to keep the most recent row.\n",
    "\n",
    "Thanksfully Delta Live Table solve theses challenges out of the box with the `APPLY CHANGE` operation"
   ]
  },
  {
   "cell_type": "code",
   "execution_count": 0,
   "metadata": {
    "application/vnd.databricks.v1+cell": {
     "cellMetadata": {},
     "inputWidgets": {},
     "nuid": "04a11ea6-5d65-429d-831b-f477f305a76b",
     "showTitle": true,
     "tableResultSettingsMap": {},
     "title": "Create the target customers table "
    }
   },
   "outputs": [],
   "source": [
    "CREATE STREAMING TABLE customers\n",
    "  COMMENT \"Clean, materialized customers\";"
   ]
  },
  {
   "cell_type": "code",
   "execution_count": 0,
   "metadata": {
    "application/vnd.databricks.v1+cell": {
     "cellMetadata": {},
     "inputWidgets": {},
     "nuid": "6c5b759c-5173-4c50-b342-f32eafb91694",
     "showTitle": false,
     "tableResultSettingsMap": {},
     "title": ""
    }
   },
   "outputs": [],
   "source": [
    "APPLY CHANGES INTO live.customers\n",
    "FROM stream(live.customers_cdc_clean)\n",
    "  KEYS (id)\n",
    "  APPLY AS DELETE WHEN operation = \"DELETE\"\n",
    "  SEQUENCE BY operation_date --primary key, auto-incrementing ID of any kind that can be used to identity order of events, or timestamp\n",
    "  COLUMNS * EXCEPT (operation, operation_date, _rescued_data);  "
   ]
  },
  {
   "cell_type": "markdown",
   "metadata": {
    "application/vnd.databricks.v1+cell": {
     "cellMetadata": {},
     "inputWidgets": {},
     "isMarkdownSandbox": true,
     "nuid": "6065ae07-6529-4b51-b915-91a743ebd50a",
     "showTitle": false,
     "tableResultSettingsMap": {},
     "title": ""
    }
   },
   "source": [
    "\n",
    "### 4/ Slowly Changing Dimension of type 2 (SCD2)\n",
    "\n",
    "<img src=\"https://github.com/QuentinAmbard/databricks-demo/raw/main/product_demos/cdc_dlt/cdc_dlt_pipeline_4.png\" width=\"700\" style=\"float: right\" />\n",
    "\n",
    "#### Why SCD2\n",
    "\n",
    "It's often required to create a table tracking all the changes resulting from APPEND, UPDATE and DELETE:\n",
    "\n",
    "* History: you want to keep an history of all the changes from your table\n",
    "* Traceability: you want to see which operation\n",
    "\n",
    "#### SCD2 with DLT\n",
    "\n",
    "Delta support CDF (Change Data Flow) and `table_change` can be used to query the table modification in a SQL/python. However, CDF main use-case is to capture changes in a pipeline and not create a full view of the table changes from the begining. \n",
    "\n",
    "Things get especially complex to implement if you have out of order events. If you need to sequence your changes by a timestamp and receive a modification which happened in the past, then you not only need to append a new entry in your SCD table, but also update the previous entries.  \n",
    "\n",
    "Delta Live Table makes all this logic super simple and let you create a separate table containing all the modifications, from the begining of the time. This table can then be used at scale, with specific partitions / zorder columns if required. Out of order fields will be handled out of the box based on the _sequence_by \n",
    "\n",
    "To create a SCD2 table, all we have to do is leverage the `APPLY CHANGES` with the extra option: `STORED AS {SCD TYPE 1 | SCD TYPE 2 [WITH {TIMESTAMP|VERSION}}]`\n",
    "\n",
    "*Note: you can also limit the columns being tracked with the option: `TRACK HISTORY ON {columnList |* EXCEPT(exceptColumnList)}*"
   ]
  },
  {
   "cell_type": "code",
   "execution_count": 0,
   "metadata": {
    "application/vnd.databricks.v1+cell": {
     "cellMetadata": {},
     "inputWidgets": {},
     "nuid": "74d50026-ebbd-444b-a704-9e819ea970f2",
     "showTitle": false,
     "tableResultSettingsMap": {},
     "title": ""
    }
   },
   "outputs": [],
   "source": [
    "-- create the table\n",
    "CREATE STREAMING TABLE SCD2_customers\n",
    "  COMMENT \"Slowly Changing Dimension Type 2 for customers\";\n",
    "\n",
    "-- store all changes as SCD2\n",
    "APPLY CHANGES INTO live.SCD2_customers\n",
    "FROM stream(live.customers_cdc_clean)\n",
    "  KEYS (id)\n",
    "  APPLY AS DELETE WHEN operation = \"DELETE\"\n",
    "  SEQUENCE BY operation_date \n",
    "  COLUMNS * EXCEPT (operation, operation_date, _rescued_data)\n",
    "  STORED AS SCD TYPE 2 ;"
   ]
  },
  {
   "cell_type": "markdown",
   "metadata": {
    "application/vnd.databricks.v1+cell": {
     "cellMetadata": {},
     "inputWidgets": {},
     "nuid": "ed875741-320a-4dc0-8cad-aec38f76a5ac",
     "showTitle": false,
     "tableResultSettingsMap": {},
     "title": ""
    }
   },
   "source": [
    "### Conclusion \n",
    "We now have <a dbdemos-pipeline-id=\"dlt-cdc\" href=\"/#joblist/pipelines/8aa6423f-07a9-4975-a3b5-3909d4d7fb38\">our DLT pipeline</a> up & ready! Our `customers` table is materialize and we can start building BI report to analyze and improve our business. It also open the door to Data Science and ML use-cases such as customer churn, segmentation etc."
   ]
  },
  {
   "cell_type": "markdown",
   "metadata": {
    "application/vnd.databricks.v1+cell": {
     "cellMetadata": {},
     "inputWidgets": {},
     "isMarkdownSandbox": true,
     "nuid": "e295e053-7fde-4fdb-897d-9dc39771866f",
     "showTitle": false,
     "tableResultSettingsMap": {},
     "title": ""
    }
   },
   "source": [
    "### Monitoring your data quality metrics with Delta Live Table\n",
    "\n",
    "<img style=\"float:right\" width=\"500\" src=\"https://github.com/QuentinAmbard/databricks-demo/raw/main/retail/resources/images/retail-dlt-data-quality-dashboard.png\">\n",
    "\n",
    "Delta Live Tables tracks all your data quality metrics. You can leverage the expecations directly as SQL table with Databricks SQL to track your expectation metrics and send alerts as required. \n",
    "\n",
    "This let you build custom dashboards to track those metrics.\n",
    "\n",
    "<a dbdemos-dashboard-id=\"dlt-expectations\" href='/sql/dashboardsv3/01efef5245c21cb2b9930490094d809e' target=\"_blank\">Data Quality Dashboard</a>"
   ]
  },
  {
   "cell_type": "markdown",
   "metadata": {
    "application/vnd.databricks.v1+cell": {
     "cellMetadata": {},
     "inputWidgets": {},
     "nuid": "ba2c7907-b754-4353-9741-3f3cf3e2a735",
     "showTitle": false,
     "tableResultSettingsMap": {},
     "title": ""
    }
   },
   "source": [
    "For more detail on how to analyse Expectation metrics, open the [03-Retail_DLT_CDC_Monitoring]($./03-Retail_DLT_CDC_Monitoring) notebook."
   ]
  }
 ],
 "metadata": {
  "application/vnd.databricks.v1+notebook": {
   "computePreferences": {
    "hardware": {
     "accelerator": null,
     "gpuPoolId": null,
     "memory": null
    }
   },
   "dashboards": [],
   "environmentMetadata": {
    "environment_version": "2"
   },
   "inputWidgetPreferences": null,
   "language": "sql",
   "notebookMetadata": {
    "pythonIndentUnit": 2
   },
   "notebookName": "01-Retail_DLT_CDC_SQL",
   "widgets": {}
  },
  "language_info": {
   "name": "sql"
  }
 },
 "nbformat": 4,
 "nbformat_minor": 0
}
